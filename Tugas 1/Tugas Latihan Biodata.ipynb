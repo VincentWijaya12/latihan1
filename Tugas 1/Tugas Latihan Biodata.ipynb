{
 "cells": [
  {
   "cell_type": "code",
   "execution_count": 52,
   "id": "33cf2844",
   "metadata": {},
   "outputs": [
    {
     "name": "stdout",
     "output_type": "stream",
     "text": [
      "Ktp : ======INFO KTP======\n",
      "nama : Vincent Wijaya\n",
      "Tempat_Tgl_Lahir : Pontianak 10,09,2002\n",
      "Jenis_kelamin : Laki-Laki\n",
      "Gol_Darah : O\n",
      "Jenis_kelamin : Laki-Laki\n",
      "Alamat : JL.Johar No:11\n",
      "RT_RW : 001/001\n",
      "Kel_Desa : Tengah\n",
      "Kecamatan : Pontianak kota\n",
      "Agama : Buddha\n",
      "Status_Perkawinan : Belum Kawin\n",
      "Pekerjaan : Pelajar/Mahasiswa\n",
      "Kewarganegaraan : WNI\n",
      "Berlaku_Hingga : Seumur Hidup\n"
     ]
    }
   ],
   "source": [
    "Ktp = \"======INFO KTP======\"\n",
    "nama = \"Vincent Wijaya\"\n",
    "Tempat_Tgl_Lahir =\"Pontianak 10,09,2002\"\n",
    "Jenis_kelamin=\"Laki-Laki\"\n",
    "Gol_Darah =\"O\"\n",
    "Alamat = \"JL.Johar No:11\"\n",
    "RT_RW =\"001/001\"\n",
    "Kel_Desa = \"Tengah\"\n",
    "Kecamatan = \"Pontianak kota\"\n",
    "Agama = \"Buddha\"\n",
    "Status_Perkawinan = \"Belum Kawin\"\n",
    "Pekerjaan =\"Pelajar/Mahasiswa\"\n",
    "Kewarganegaraan = \"WNI\"\n",
    "Berlaku_Hingga =\"Seumur Hidup\"\n",
    "#cetak Info KTP\n",
    "print(\"Ktp :\",Ktp)\n",
    "print(\"nama :\",nama)\n",
    "print(\"Tempat_Tgl_Lahir :\",Tempat_Tgl_Lahir)\n",
    "print(\"Jenis_kelamin :\",Jenis_kelamin)\n",
    "print(\"Gol_Darah :\",Gol_Darah)\n",
    "print(\"Jenis_kelamin :\",Jenis_kelamin)\n",
    "print(\"Alamat :\",Alamat)\n",
    "print(\"RT_RW :\",RT_RW)\n",
    "print(\"Kel_Desa :\",Kel_Desa)\n",
    "print(\"Kecamatan :\",Kecamatan)\n",
    "print(\"Agama :\",Agama)\n",
    "print(\"Status_Perkawinan :\",Status_Perkawinan)\n",
    "print(\"Pekerjaan :\",Pekerjaan)\n",
    "print(\"Kewarganegaraan :\",Kewarganegaraan)\n",
    "print(\"Berlaku_Hingga :\",Berlaku_Hingga)"
   ]
  },
  {
   "cell_type": "code",
   "execution_count": 53,
   "id": "61c85931",
   "metadata": {},
   "outputs": [
    {
     "name": "stdout",
     "output_type": "stream",
     "text": [
      "Sim : ======INFO SIM======\n",
      "nama : Vincent Wijaya\n",
      "Jenis_Kelamin: Pria\n",
      "Alamat : JL.Johar No 11\n",
      "RT : 001/001 Tengah Kota Pontianak\n",
      "Tempat : Pontianak\n",
      "Tgl_Lahir : 10-09-2002\n",
      "Tinggi : 178 cm\n",
      "Pekerjaan : Pelajar/Mahasiswa\n",
      "No_SIM: 10142389293424\n",
      "Berlaku_S_D : 04,09,2025 Pontianak 24-10-2020\n"
     ]
    }
   ],
   "source": [
    "Sim = \"======INFO SIM======\"\n",
    "nama = \"Vincent Wijaya\"\n",
    "Jenis_Kelamin = \"Pria\"\n",
    "Alamat = \"JL.Johar No 11\"\n",
    "RT =\"001/001 Tengah Kota Pontianak\"\n",
    "Tempat =\"Pontianak\" \n",
    "Tgl_Lahir =\"10-09-2002\"\n",
    "Tinggi =\"178 cm\"\n",
    "Pekerjaan =\"Pelajar/Mahasiswa\"\n",
    "No_SIM = \"10142389293424\"\n",
    "Berlaku_S_D =\"04,09,2025 Pontianak 24-10-2020\"\n",
    "#cetak Info SIM\n",
    "print(\"Sim :\",Sim)\n",
    "print(\"nama :\",nama)\n",
    "print(\"Jenis_Kelamin:\",Jenis_Kelamin)\n",
    "print(\"Alamat :\",Alamat)\n",
    "print(\"RT :\",RT)\n",
    "print(\"Tempat :\",Tempat)\n",
    "print(\"Tgl_Lahir :\",Tgl_Lahir)\n",
    "print(\"Tinggi :\",Tinggi)\n",
    "print(\"Pekerjaan :\",Pekerjaan)\n",
    "print(\"No_SIM:\",No_SIM)\n",
    "print(\"Berlaku_S_D :\",Berlaku_S_D)"
   ]
  },
  {
   "cell_type": "code",
   "execution_count": 62,
   "id": "d6b2c87e",
   "metadata": {},
   "outputs": [
    {
     "name": "stdout",
     "output_type": "stream",
     "text": [
      "Curriculume_Vitae : ======Curriculume_Vitae======\n",
      "=========================\n",
      "nama : Vincent Wijaya\n",
      "Tempat_Tgl_Lahir : Pontianak 10 September 2002\n",
      "Jenis_kelamin : Laki-Laki\n",
      "Tinggi_Badan : 178 cm\n",
      "Agama : Buddha\n",
      "Alamat_Asal : Pontianak RT.001/001 Kec.Pontianak Kota 70008\n",
      "Alamat_Tinggal : Jl johar No.11 RT.001/001 Kel.Tengah Kec.Pontianak Kota\n",
      "No_Tlp : 08973846182\n",
      "Gmail : Vincentwijaya7263@gmail.com\n",
      "=========================\n",
      "Pendidikan_Formal\n",
      "SD_Bruder_Melati : SD_Bruder_Melati (2008-2014)\n",
      "SMP_Bruder : SMP_Bruder (2014-2017)\n",
      "SMA_Santo_Paulus : SMA_Santo_Paulus (2017-2020)\n",
      "=========================\n",
      "Pendidikan_Non_Formal\n",
      "Bimbble_Ganesha_Operation  : Bimbble_Ganesha_Operation (2014-2018)\n",
      "=========================\n",
      "Organisasi_Ekstra_Kurikuler\n",
      "Ketua_Badminton_Sma_Santo_Paulus : Ketua_Badminton_Sma_Santo_Paulus (2018-2020)\n",
      "=========================\n",
      "Kemampuan\n",
      "Menguasai : Olaraga Badminton,Komputer World,Excel dan Power Point\n"
     ]
    }
   ],
   "source": [
    "Curriculume_Vitae =\"======Curriculume_Vitae======\"\n",
    "nama = \"Vincent Wijaya\"\n",
    "Tempat_Tgl_Lahir =\"Pontianak 10 September 2002\"\n",
    "Status_Perkawinan = \"Belum Kawin\"\n",
    "Jenis_kelamin=\"Laki-Laki\"\n",
    "Tinggi_Badan =\"178 cm\"\n",
    "Agama = \"Buddha\"\n",
    "Alamat_Asal = \"Pontianak RT.001/001 Kec.Pontianak Kota 70008\"\n",
    "Alamat_Tinggal =\"Jl johar No.11 RT.001/001 Kel.Tengah Kec.Pontianak Kota\"\n",
    "No_Tlp =\"08973846182\"\n",
    "Gmail =\"Vincentwijaya7263@gmail.com\"\n",
    "Pendidikan_Formal =\"Pendidikan\"\n",
    "SD_Bruder_Melati =\"SD_Bruder_Melati (2008-2014)\"\n",
    "SMP_Bruder =\"SMP_Bruder (2014-2017)\"\n",
    "SMA_Santo_Paulus =\"SMA_Santo_Paulus (2017-2020)\"\n",
    "Pendidikan_Non_Formal =\"Pendidikan_Non_Formal\"\n",
    "Bimbble_Ganesha_Operation =\"Bimbble_Ganesha_Operation (2014-2018)\"\n",
    "Organisasi_Ekstra_Kurikuler =\"Organisasi_Ekstra_Kurikuler\"\n",
    "Ketua_Badminton_Sma_Santo_Paulus =\"Ketua_Badminton_Sma_Santo_Paulus (2018-2020)\"\n",
    "Kemampuan =\"Kemampuan\"\n",
    "Menguasai =\"Olaraga Badminton,Komputer World,Excel dan Power Point\"\n",
    "#Cetak CV\n",
    "print(\"Curriculume_Vitae :\",Curriculume_Vitae)\n",
    "print(\"=========================\")\n",
    "print(\"nama :\",nama)\n",
    "print(\"Tempat_Tgl_Lahir :\",Tempat_Tgl_Lahir)\n",
    "print(\"Jenis_kelamin :\",Jenis_kelamin)\n",
    "print(\"Tinggi_Badan :\",Tinggi_Badan)\n",
    "print(\"Agama :\",Agama)\n",
    "print(\"Alamat_Asal :\",Alamat_Asal)\n",
    "print(\"Alamat_Tinggal :\",Alamat_Tinggal)\n",
    "print(\"No_Tlp :\",No_Tlp)\n",
    "print(\"Gmail :\",Gmail)\n",
    "print(\"=========================\")\n",
    "print(\"Pendidikan_Formal\")\n",
    "print(\"SD_Bruder_Melati :\",SD_Bruder_Melati)\n",
    "print(\"SMP_Bruder :\",SMP_Bruder)\n",
    "print(\"SMA_Santo_Paulus :\",SMA_Santo_Paulus)\n",
    "print(\"=========================\")\n",
    "print(\"Pendidikan_Non_Formal\")\n",
    "print(\"Bimbble_Ganesha_Operation  :\",Bimbble_Ganesha_Operation)\n",
    "print(\"=========================\")\n",
    "print(\"Organisasi_Ekstra_Kurikuler\")\n",
    "print(\"Ketua_Badminton_Sma_Santo_Paulus :\",Ketua_Badminton_Sma_Santo_Paulus)\n",
    "print(\"=========================\")\n",
    "print(\"Kemampuan\")\n",
    "print(\"Menguasai :\",Menguasai)\n"
   ]
  },
  {
   "cell_type": "code",
   "execution_count": null,
   "id": "a3322f9d",
   "metadata": {},
   "outputs": [],
   "source": []
  },
  {
   "cell_type": "code",
   "execution_count": null,
   "id": "5aea9588",
   "metadata": {},
   "outputs": [],
   "source": [
    "\n"
   ]
  },
  {
   "cell_type": "code",
   "execution_count": null,
   "id": "4ce40923",
   "metadata": {},
   "outputs": [],
   "source": [
    "\n"
   ]
  },
  {
   "cell_type": "code",
   "execution_count": null,
   "id": "793fe646",
   "metadata": {},
   "outputs": [],
   "source": []
  },
  {
   "cell_type": "code",
   "execution_count": null,
   "id": "ed0e5909",
   "metadata": {},
   "outputs": [],
   "source": []
  },
  {
   "cell_type": "code",
   "execution_count": null,
   "id": "a421feec",
   "metadata": {},
   "outputs": [],
   "source": []
  },
  {
   "cell_type": "code",
   "execution_count": null,
   "id": "4c01dfc0",
   "metadata": {},
   "outputs": [],
   "source": []
  }
 ],
 "metadata": {
  "kernelspec": {
   "display_name": "Python 3",
   "language": "python",
   "name": "python3"
  },
  "language_info": {
   "codemirror_mode": {
    "name": "ipython",
    "version": 3
   },
   "file_extension": ".py",
   "mimetype": "text/x-python",
   "name": "python",
   "nbconvert_exporter": "python",
   "pygments_lexer": "ipython3",
   "version": "3.8.8"
  }
 },
 "nbformat": 4,
 "nbformat_minor": 5
}
